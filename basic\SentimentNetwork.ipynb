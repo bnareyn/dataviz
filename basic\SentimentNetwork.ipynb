{
  "nbformat": 4,
  "nbformat_minor": 0,
  "metadata": {
    "colab": {
      "name": "SentimentNetwork.ipynb",
      "provenance": [],
      "authorship_tag": "ABX9TyOQvZ4lIMzDlfJ9lARTQtVg",
      "include_colab_link": true
    },
    "kernelspec": {
      "name": "python3",
      "display_name": "Python 3"
    },
    "language_info": {
      "name": "python"
    }
  },
  "cells": [
    {
      "cell_type": "markdown",
      "metadata": {
        "id": "view-in-github",
        "colab_type": "text"
      },
      "source": [
        "<a href=\"https://colab.research.google.com/github/bnareyn/dataviz/blob/master/basic%5CSentimentNetwork.ipynb\" target=\"_parent\"><img src=\"https://colab.research.google.com/assets/colab-badge.svg\" alt=\"Open In Colab\"/></a>"
      ]
    },
    {
      "cell_type": "code",
      "execution_count": null,
      "metadata": {
        "id": "-xxHUO9vGURF"
      },
      "outputs": [],
      "source": [
        "class SentimentNetwork:\n",
        "  def __init__(self):\n",
        "    pass\n",
        "\n",
        "  def init_network(self):\n",
        "    pass\n",
        "    \n",
        "  def train(self):\n",
        "    pass\n",
        "\n",
        "  def test(self):\n",
        "    pass"
      ]
    },
    {
      "cell_type": "code",
      "source": [
        ""
      ],
      "metadata": {
        "id": "jIbCkoejHCH8"
      },
      "execution_count": null,
      "outputs": []
    }
  ]
}